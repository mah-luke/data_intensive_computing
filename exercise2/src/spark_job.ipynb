{
 "cells": [
  {
   "cell_type": "raw",
   "id": "833e2766",
   "metadata": {},
   "source": [
    "---\n",
    "title: 'Part 1: RDDs'\n",
    "---"
   ]
  },
  {
   "cell_type": "markdown",
   "id": "c11d3b5c",
   "metadata": {},
   "source": [
    "# Example 1: RDD"
   ]
  },
  {
   "cell_type": "code",
   "execution_count": null,
   "id": "d45fd54e",
   "metadata": {},
   "outputs": [],
   "source": [
    "import pyspark\n",
    "from pathlib import Path\n",
    "from pyspark.sql import SparkSession\n",
    "from pyspark import SparkContext, SparkConf\n",
    "spark: SparkSession = SparkSession.builder \\\n",
    "    .appName(\"poc\") \\\n",
    "    .config(\"spark.driver.host\", \"localhost\") \\\n",
    "    .config(\"spark.driver.bindAddress\", \"localhost\") \\\n",
    "    .getOrCreate()\n",
    "\n",
    "\n",
    "sc: SparkContext = spark.sparkContext\n",
    "\n",
    "# conf = SparkConf().setAppName(\"poc\") \\\n",
    "#     .setMaster(\"local[1]\")\n",
    "# conf.set(\"spark.driver.host\", \"localhost\")\n",
    "#\n",
    "# sc = SparkContext(conf=conf)\n",
    "\n",
    "BASE_PATH = Path().resolve()\n",
    "BASE_PATH"
   ]
  },
  {
   "cell_type": "code",
   "execution_count": null,
   "id": "dca75cfd",
   "metadata": {},
   "outputs": [],
   "source": [
    "path = BASE_PATH / \"resource\" / \"reviews_devset.json\"\n",
    "rdd = sc.wholeTextFiles(str(path))\n",
    "\n",
    "display(rdd)"
   ]
  },
  {
   "cell_type": "markdown",
   "id": "3170af5c",
   "metadata": {},
   "source": [
    "# Example 2: "
   ]
  }
 ],
 "metadata": {
  "jupytext": {
   "cell_metadata_filter": "title,-all"
  },
  "kernelspec": {
   "display_name": "spark_job",
   "language": "python",
   "name": "spark_job"
  },
  "language_info": {
   "codemirror_mode": {
    "name": "ipython",
    "version": 3
   },
   "file_extension": ".py",
   "mimetype": "text/x-python",
   "name": "python",
   "nbconvert_exporter": "python",
   "pygments_lexer": "ipython3",
   "version": "3.12.3"
  }
 },
 "nbformat": 4,
 "nbformat_minor": 5
}
